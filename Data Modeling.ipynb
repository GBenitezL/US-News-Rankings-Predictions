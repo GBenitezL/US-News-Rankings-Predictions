{
  "nbformat": 4,
  "nbformat_minor": 0,
  "metadata": {
    "colab": {
      "provenance": []
    },
    "kernelspec": {
      "name": "python3",
      "display_name": "Python 3"
    },
    "language_info": {
      "name": "python"
    }
  },
  "cells": [
    {
      "cell_type": "code",
      "execution_count": 1,
      "metadata": {
        "id": "PpohJ-xDPQQE"
      },
      "outputs": [],
      "source": [
        "import pandas as pd\n",
        "import numpy as np\n",
        "import matplotlib.pyplot as plt\n",
        "import seaborn as sns\n",
        "\n",
        "from sklearn.model_selection import train_test_split \n",
        "from sklearn.linear_model import LinearRegression\n",
        "from sklearn.linear_model import Ridge\n",
        "from sklearn.neural_network import MLPRegressor\n",
        "from sklearn.metrics import r2_score\n",
        "from sklearn.metrics import mean_absolute_error as MAE"
      ]
    },
    {
      "cell_type": "code",
      "source": [
        "df = pd.read_csv('rankings.csv')\n",
        "df = df.drop(columns = ['Highly Cited Papers (ESI)'])\n",
        "# df = df[(df['Score'] < 70)]\n",
        "df.head()"
      ],
      "metadata": {
        "colab": {
          "base_uri": "https://localhost:8080/",
          "height": 513
        },
        "id": "LHy7ihbQPlC5",
        "outputId": "50d0c74e-a20b-4c15-d47a-a966b3700ddc"
      },
      "execution_count": 2,
      "outputs": [
        {
          "output_type": "execute_result",
          "data": {
            "text/plain": [
              "                                          Name                   Country  \\\n",
              "0                           Harvard University  United States of America   \n",
              "1  Massachusetts Institute of Technology (MIT)  United States of America   \n",
              "2                          Stanford University  United States of America   \n",
              "3            University of California Berkeley  United States of America   \n",
              "4                         University of Oxford            United Kingdom   \n",
              "\n",
              "          Region  Papers  Books  Conference Proceedings  NCI (ESI)  \\\n",
              "0  North America       1      3                     118         12   \n",
              "1  North America      31     36                      13          3   \n",
              "2  North America       9     24                      46          7   \n",
              "3  North America      19     12                      43         13   \n",
              "4         Europe       5      1                     131         25   \n",
              "\n",
              "   Research Power (ESI)  # of top 10% documents (ESI)  \\\n",
              "0                     1                             1   \n",
              "1                     8                             8   \n",
              "2                     3                             2   \n",
              "3                    12                            10   \n",
              "4                     4                             4   \n",
              "\n",
              "   Percent Documents in Top 10% (ESI)  Percent Highly Cited Papers (ESI)  \\\n",
              "0                                   6                                  5   \n",
              "1                                   2                                  1   \n",
              "2                                   5                                  3   \n",
              "3                                   9                                 14   \n",
              "4                                  33                                 36   \n",
              "\n",
              "   International Collaboration  \\\n",
              "0                          484   \n",
              "1                          317   \n",
              "2                          557   \n",
              "3                          428   \n",
              "4                          126   \n",
              "\n",
              "   International Collaboration (relative to country)  Reputation (Global)  \\\n",
              "0                                                 68                    1   \n",
              "1                                                 31                    2   \n",
              "2                                                114                    3   \n",
              "3                                                 54                    5   \n",
              "4                                                222                    6   \n",
              "\n",
              "   Reputation (Local)  Score  RANK  Year  \n",
              "0                   6  100.0     1  2019  \n",
              "1                  13   97.6     2  2019  \n",
              "2                  10   93.8     3  2019  \n",
              "3                  14   90.8     4  2019  \n",
              "4                  75   87.6     5  2019  "
            ],
            "text/html": [
              "\n",
              "  <div id=\"df-ed5298a0-5c91-4ea9-954a-5d59c4d0272d\">\n",
              "    <div class=\"colab-df-container\">\n",
              "      <div>\n",
              "<style scoped>\n",
              "    .dataframe tbody tr th:only-of-type {\n",
              "        vertical-align: middle;\n",
              "    }\n",
              "\n",
              "    .dataframe tbody tr th {\n",
              "        vertical-align: top;\n",
              "    }\n",
              "\n",
              "    .dataframe thead th {\n",
              "        text-align: right;\n",
              "    }\n",
              "</style>\n",
              "<table border=\"1\" class=\"dataframe\">\n",
              "  <thead>\n",
              "    <tr style=\"text-align: right;\">\n",
              "      <th></th>\n",
              "      <th>Name</th>\n",
              "      <th>Country</th>\n",
              "      <th>Region</th>\n",
              "      <th>Papers</th>\n",
              "      <th>Books</th>\n",
              "      <th>Conference Proceedings</th>\n",
              "      <th>NCI (ESI)</th>\n",
              "      <th>Research Power (ESI)</th>\n",
              "      <th># of top 10% documents (ESI)</th>\n",
              "      <th>Percent Documents in Top 10% (ESI)</th>\n",
              "      <th>Percent Highly Cited Papers (ESI)</th>\n",
              "      <th>International Collaboration</th>\n",
              "      <th>International Collaboration (relative to country)</th>\n",
              "      <th>Reputation (Global)</th>\n",
              "      <th>Reputation (Local)</th>\n",
              "      <th>Score</th>\n",
              "      <th>RANK</th>\n",
              "      <th>Year</th>\n",
              "    </tr>\n",
              "  </thead>\n",
              "  <tbody>\n",
              "    <tr>\n",
              "      <th>0</th>\n",
              "      <td>Harvard University</td>\n",
              "      <td>United States of America</td>\n",
              "      <td>North America</td>\n",
              "      <td>1</td>\n",
              "      <td>3</td>\n",
              "      <td>118</td>\n",
              "      <td>12</td>\n",
              "      <td>1</td>\n",
              "      <td>1</td>\n",
              "      <td>6</td>\n",
              "      <td>5</td>\n",
              "      <td>484</td>\n",
              "      <td>68</td>\n",
              "      <td>1</td>\n",
              "      <td>6</td>\n",
              "      <td>100.0</td>\n",
              "      <td>1</td>\n",
              "      <td>2019</td>\n",
              "    </tr>\n",
              "    <tr>\n",
              "      <th>1</th>\n",
              "      <td>Massachusetts Institute of Technology (MIT)</td>\n",
              "      <td>United States of America</td>\n",
              "      <td>North America</td>\n",
              "      <td>31</td>\n",
              "      <td>36</td>\n",
              "      <td>13</td>\n",
              "      <td>3</td>\n",
              "      <td>8</td>\n",
              "      <td>8</td>\n",
              "      <td>2</td>\n",
              "      <td>1</td>\n",
              "      <td>317</td>\n",
              "      <td>31</td>\n",
              "      <td>2</td>\n",
              "      <td>13</td>\n",
              "      <td>97.6</td>\n",
              "      <td>2</td>\n",
              "      <td>2019</td>\n",
              "    </tr>\n",
              "    <tr>\n",
              "      <th>2</th>\n",
              "      <td>Stanford University</td>\n",
              "      <td>United States of America</td>\n",
              "      <td>North America</td>\n",
              "      <td>9</td>\n",
              "      <td>24</td>\n",
              "      <td>46</td>\n",
              "      <td>7</td>\n",
              "      <td>3</td>\n",
              "      <td>2</td>\n",
              "      <td>5</td>\n",
              "      <td>3</td>\n",
              "      <td>557</td>\n",
              "      <td>114</td>\n",
              "      <td>3</td>\n",
              "      <td>10</td>\n",
              "      <td>93.8</td>\n",
              "      <td>3</td>\n",
              "      <td>2019</td>\n",
              "    </tr>\n",
              "    <tr>\n",
              "      <th>3</th>\n",
              "      <td>University of California Berkeley</td>\n",
              "      <td>United States of America</td>\n",
              "      <td>North America</td>\n",
              "      <td>19</td>\n",
              "      <td>12</td>\n",
              "      <td>43</td>\n",
              "      <td>13</td>\n",
              "      <td>12</td>\n",
              "      <td>10</td>\n",
              "      <td>9</td>\n",
              "      <td>14</td>\n",
              "      <td>428</td>\n",
              "      <td>54</td>\n",
              "      <td>5</td>\n",
              "      <td>14</td>\n",
              "      <td>90.8</td>\n",
              "      <td>4</td>\n",
              "      <td>2019</td>\n",
              "    </tr>\n",
              "    <tr>\n",
              "      <th>4</th>\n",
              "      <td>University of Oxford</td>\n",
              "      <td>United Kingdom</td>\n",
              "      <td>Europe</td>\n",
              "      <td>5</td>\n",
              "      <td>1</td>\n",
              "      <td>131</td>\n",
              "      <td>25</td>\n",
              "      <td>4</td>\n",
              "      <td>4</td>\n",
              "      <td>33</td>\n",
              "      <td>36</td>\n",
              "      <td>126</td>\n",
              "      <td>222</td>\n",
              "      <td>6</td>\n",
              "      <td>75</td>\n",
              "      <td>87.6</td>\n",
              "      <td>5</td>\n",
              "      <td>2019</td>\n",
              "    </tr>\n",
              "  </tbody>\n",
              "</table>\n",
              "</div>\n",
              "      <button class=\"colab-df-convert\" onclick=\"convertToInteractive('df-ed5298a0-5c91-4ea9-954a-5d59c4d0272d')\"\n",
              "              title=\"Convert this dataframe to an interactive table.\"\n",
              "              style=\"display:none;\">\n",
              "        \n",
              "  <svg xmlns=\"http://www.w3.org/2000/svg\" height=\"24px\"viewBox=\"0 0 24 24\"\n",
              "       width=\"24px\">\n",
              "    <path d=\"M0 0h24v24H0V0z\" fill=\"none\"/>\n",
              "    <path d=\"M18.56 5.44l.94 2.06.94-2.06 2.06-.94-2.06-.94-.94-2.06-.94 2.06-2.06.94zm-11 1L8.5 8.5l.94-2.06 2.06-.94-2.06-.94L8.5 2.5l-.94 2.06-2.06.94zm10 10l.94 2.06.94-2.06 2.06-.94-2.06-.94-.94-2.06-.94 2.06-2.06.94z\"/><path d=\"M17.41 7.96l-1.37-1.37c-.4-.4-.92-.59-1.43-.59-.52 0-1.04.2-1.43.59L10.3 9.45l-7.72 7.72c-.78.78-.78 2.05 0 2.83L4 21.41c.39.39.9.59 1.41.59.51 0 1.02-.2 1.41-.59l7.78-7.78 2.81-2.81c.8-.78.8-2.07 0-2.86zM5.41 20L4 18.59l7.72-7.72 1.47 1.35L5.41 20z\"/>\n",
              "  </svg>\n",
              "      </button>\n",
              "      \n",
              "  <style>\n",
              "    .colab-df-container {\n",
              "      display:flex;\n",
              "      flex-wrap:wrap;\n",
              "      gap: 12px;\n",
              "    }\n",
              "\n",
              "    .colab-df-convert {\n",
              "      background-color: #E8F0FE;\n",
              "      border: none;\n",
              "      border-radius: 50%;\n",
              "      cursor: pointer;\n",
              "      display: none;\n",
              "      fill: #1967D2;\n",
              "      height: 32px;\n",
              "      padding: 0 0 0 0;\n",
              "      width: 32px;\n",
              "    }\n",
              "\n",
              "    .colab-df-convert:hover {\n",
              "      background-color: #E2EBFA;\n",
              "      box-shadow: 0px 1px 2px rgba(60, 64, 67, 0.3), 0px 1px 3px 1px rgba(60, 64, 67, 0.15);\n",
              "      fill: #174EA6;\n",
              "    }\n",
              "\n",
              "    [theme=dark] .colab-df-convert {\n",
              "      background-color: #3B4455;\n",
              "      fill: #D2E3FC;\n",
              "    }\n",
              "\n",
              "    [theme=dark] .colab-df-convert:hover {\n",
              "      background-color: #434B5C;\n",
              "      box-shadow: 0px 1px 3px 1px rgba(0, 0, 0, 0.15);\n",
              "      filter: drop-shadow(0px 1px 2px rgba(0, 0, 0, 0.3));\n",
              "      fill: #FFFFFF;\n",
              "    }\n",
              "  </style>\n",
              "\n",
              "      <script>\n",
              "        const buttonEl =\n",
              "          document.querySelector('#df-ed5298a0-5c91-4ea9-954a-5d59c4d0272d button.colab-df-convert');\n",
              "        buttonEl.style.display =\n",
              "          google.colab.kernel.accessAllowed ? 'block' : 'none';\n",
              "\n",
              "        async function convertToInteractive(key) {\n",
              "          const element = document.querySelector('#df-ed5298a0-5c91-4ea9-954a-5d59c4d0272d');\n",
              "          const dataTable =\n",
              "            await google.colab.kernel.invokeFunction('convertToInteractive',\n",
              "                                                     [key], {});\n",
              "          if (!dataTable) return;\n",
              "\n",
              "          const docLinkHtml = 'Like what you see? Visit the ' +\n",
              "            '<a target=\"_blank\" href=https://colab.research.google.com/notebooks/data_table.ipynb>data table notebook</a>'\n",
              "            + ' to learn more about interactive tables.';\n",
              "          element.innerHTML = '';\n",
              "          dataTable['output_type'] = 'display_data';\n",
              "          await google.colab.output.renderOutput(dataTable, element);\n",
              "          const docLink = document.createElement('div');\n",
              "          docLink.innerHTML = docLinkHtml;\n",
              "          element.appendChild(docLink);\n",
              "        }\n",
              "      </script>\n",
              "    </div>\n",
              "  </div>\n",
              "  "
            ]
          },
          "metadata": {},
          "execution_count": 2
        }
      ]
    },
    {
      "cell_type": "code",
      "source": [
        "X = df.drop(columns=['Score', 'Name', 'Country', 'Region', 'Year', 'RANK'])\n",
        "y = df.Score"
      ],
      "metadata": {
        "id": "SUNmKDvwR88n"
      },
      "execution_count": 3,
      "outputs": []
    },
    {
      "cell_type": "code",
      "source": [
        "X_train, X_test, y_train, y_test = train_test_split(X, y, random_state = 100)"
      ],
      "metadata": {
        "id": "LPzt28pTRqvm"
      },
      "execution_count": 4,
      "outputs": []
    },
    {
      "cell_type": "code",
      "source": [
        "lreg = LinearRegression()\n",
        "lreg.fit(X_train, y_train)\n",
        "\n",
        "y_pred_lreg = lreg.predict(X_test) \n",
        "  \n",
        "print(\"R2 Score: \", (r2_score(y_pred_lreg, y_test)))\n",
        "print(\"MAE: \", MAE(y_test, y_pred_lreg))  \n",
        "\n",
        "lreg_coefficient = pd.DataFrame() \n",
        "lreg_coefficient[\"Columns\"] = X_train.columns \n",
        "lreg_coefficient['Coefficient Estimate'] = pd.DataFrame(lreg.coef_)\n",
        "lreg_coefficient\n",
        "plt.figure(figsize=(10,6))\n",
        "plt.bar(lreg_coefficient.Columns, lreg_coefficient['Coefficient Estimate'])\n",
        "plt.ylabel('Coeficientes')\n",
        "plt.title('Importancia de las Features')\n",
        "plt.xticks(rotation=75)\n",
        "plt.show()\n"
      ],
      "metadata": {
        "colab": {
          "base_uri": "https://localhost:8080/",
          "height": 646
        },
        "id": "B2hjpR_YRf1y",
        "outputId": "d9a16034-8727-41d7-f5b4-4819d95f8872"
      },
      "execution_count": 5,
      "outputs": [
        {
          "output_type": "stream",
          "name": "stdout",
          "text": [
            "R2 Score:  0.8807856366363904\n",
            "MAE:  4.119365940322961\n"
          ]
        },
        {
          "output_type": "display_data",
          "data": {
            "text/plain": [
              "<Figure size 720x432 with 1 Axes>"
            ],
            "image/png": "[encoded data removed]"
          },
          "metadata": {
            "needs_background": "light"
          }
        }
      ]
    },
    {
      "cell_type": "code",
      "source": [
        "lreg.get_params()"
      ],
      "metadata": {
        "colab": {
          "base_uri": "https://localhost:8080/"
        },
        "id": "gSahkagdccCs",
        "outputId": "09c36d26-2053-499a-9654-27140fb8c46c"
      },
      "execution_count": 6,
      "outputs": [
        {
          "output_type": "execute_result",
          "data": {
            "text/plain": [
              "{'copy_X': True,\n",
              " 'fit_intercept': True,\n",
              " 'n_jobs': None,\n",
              " 'normalize': 'deprecated',\n",
              " 'positive': False}"
            ]
          },
          "metadata": {},
          "execution_count": 6
        }
      ]
    },
    {
      "cell_type": "code",
      "source": [
        "#Import svm model\n",
        "from sklearn import svm\n",
        "\n",
        "#Create a svm Classifier\n",
        "svr = svm.SVR(kernel='rbf') # Linear Kernel\n",
        "\n",
        "#Train the model using the training sets\n",
        "svr.fit(X_train, y_train)\n",
        "\n",
        "#Predict the response for test dataset\n",
        "y_pred_svm = svr.predict(X_test)\n",
        "\n",
        "print(\"R2 Score: \", (r2_score(y_pred_svm, y_test)))\n",
        "print(\"MAE: \", MAE(y_test, y_pred_svm))\n",
        "\n",
        "svr_coefficient = pd.DataFrame() \n",
        "svr_coefficient[\"Columns\"] = X_train.columns \n",
        "# svr_coefficient['Coefficient Estimate'] = pd.Series(svr.dual_coef_) \n",
        "print(svr_coefficient)"
      ],
      "metadata": {
        "colab": {
          "base_uri": "https://localhost:8080/"
        },
        "id": "SWnwcHypWih3",
        "outputId": "96a56b27-91a2-4f00-e794-f73f82668c19"
      },
      "execution_count": 7,
      "outputs": [
        {
          "output_type": "stream",
          "name": "stdout",
          "text": [
            "R2 Score:  0.9376355664241006\n",
            "MAE:  2.96086237621212\n",
            "                                              Columns\n",
            "0                                              Papers\n",
            "1                                               Books\n",
            "2                              Conference Proceedings\n",
            "3                                           NCI (ESI)\n",
            "4                                Research Power (ESI)\n",
            "5                        # of top 10% documents (ESI)\n",
            "6                  Percent Documents in Top 10% (ESI)\n",
            "7                   Percent Highly Cited Papers (ESI)\n",
            "8                         International Collaboration\n",
            "9   International Collaboration (relative to country)\n",
            "10                                Reputation (Global)\n",
            "11                                 Reputation (Local)\n"
          ]
        }
      ]
    },
    {
      "cell_type": "code",
      "source": [
        "import xgboost as xgb\n",
        "# Instantiation\n",
        "xgb_r = xgb.XGBRegressor(learning_rate=0.3)\n",
        " \n",
        "# Fitting the model\n",
        "xgb_r.fit(X_train, y_train)\n",
        " \n",
        "# Predict the model\n",
        "y_pred_xgb = xgb_r.predict(X_test)\n",
        " \n",
        "# RMSE Computation\n",
        "print(\"R2 Score: \", (r2_score(y_pred_xgb, y_test)))\n",
        "print(\"MAE: \", MAE(y_test, y_pred_xgb))"
      ],
      "metadata": {
        "colab": {
          "base_uri": "https://localhost:8080/"
        },
        "id": "6Zs8_i1WgSTJ",
        "outputId": "2119eccc-b174-465b-84e1-d4c187e10626"
      },
      "execution_count": 8,
      "outputs": [
        {
          "output_type": "stream",
          "name": "stdout",
          "text": [
            "[23:36:37] WARNING: /workspace/src/objective/regression_obj.cu:152: reg:linear is now deprecated in favor of reg:squarederror.\n",
            "R2 Score:  0.9633081008394583\n",
            "MAE:  2.37669070892334\n"
          ]
        }
      ]
    },
    {
      "cell_type": "code",
      "source": [
        "print(max(abs(y_pred_xgb - y_test)))\n",
        "print(max(abs(y_pred_svm - y_test)))\n",
        "print(max(abs(y_pred_lreg - y_test)))"
      ],
      "metadata": {
        "colab": {
          "base_uri": "https://localhost:8080/"
        },
        "id": "1z2QCAhJbSx2",
        "outputId": "783874a6-9487-4d0c-d5f4-e8a3a24a36f6"
      },
      "execution_count": 9,
      "outputs": [
        {
          "output_type": "stream",
          "name": "stdout",
          "text": [
            "11.622064208984376\n",
            "19.821204840425537\n",
            "26.516303212405063\n"
          ]
        }
      ]
    },
    {
      "cell_type": "code",
      "source": [
        "xgb_r.get_params()"
      ],
      "metadata": {
        "colab": {
          "base_uri": "https://localhost:8080/"
        },
        "id": "peiGnrHDc8Kf",
        "outputId": "292b7fdc-b2e8-42f0-f590-4d429bec5178"
      },
      "execution_count": 10,
      "outputs": [
        {
          "output_type": "execute_result",
          "data": {
            "text/plain": [
              "{'base_score': 0.5,\n",
              " 'booster': 'gbtree',\n",
              " 'colsample_bylevel': 1,\n",
              " 'colsample_bynode': 1,\n",
              " 'colsample_bytree': 1,\n",
              " 'gamma': 0,\n",
              " 'importance_type': 'gain',\n",
              " 'learning_rate': 0.3,\n",
              " 'max_delta_step': 0,\n",
              " 'max_depth': 3,\n",
              " 'min_child_weight': 1,\n",
              " 'missing': None,\n",
              " 'n_estimators': 100,\n",
              " 'n_jobs': 1,\n",
              " 'nthread': None,\n",
              " 'objective': 'reg:linear',\n",
              " 'random_state': 0,\n",
              " 'reg_alpha': 0,\n",
              " 'reg_lambda': 1,\n",
              " 'scale_pos_weight': 1,\n",
              " 'seed': None,\n",
              " 'silent': None,\n",
              " 'subsample': 1,\n",
              " 'verbosity': 1}"
            ]
          },
          "metadata": {},
          "execution_count": 10
        }
      ]
    },
    {
      "cell_type": "code",
      "source": [
        "plt.figure(figsize=(10,6))\n",
        "sorted_idx = xgb_r.feature_importances_.argsort()\n",
        "plt.bar(X_test.columns[sorted_idx], xgb_r.feature_importances_[sorted_idx])\n",
        "plt.xticks(rotation=75)\n",
        "plt.ylabel('Coeficientes')\n",
        "plt.title('Importancia de las Features')\n",
        "plt.show()"
      ],
      "metadata": {
        "colab": {
          "base_uri": "https://localhost:8080/",
          "height": 611
        },
        "id": "U4IA0LNxQ5b9",
        "outputId": "e81a5e36-5b38-419a-d491-b6bf63422ff1"
      },
      "execution_count": 11,
      "outputs": [
        {
          "output_type": "display_data",
          "data": {
            "text/plain": [
              "<Figure size 720x432 with 1 Axes>"
            ],
            "image/png": "[encoded data removed]"
          },
          "metadata": {
            "needs_background": "light"
          }
        }
      ]
    },
    {
      "cell_type": "code",
      "source": [
        "for col,score in zip(X_train.columns, xgb_r.feature_importances_):\n",
        "    print(col,score)"
      ],
      "metadata": {
        "colab": {
          "base_uri": "https://localhost:8080/"
        },
        "id": "3AC_VmhwhaE1",
        "outputId": "0f9cdb88-7a8e-4098-b9c9-a9e1d6da76b0"
      },
      "execution_count": 12,
      "outputs": [
        {
          "output_type": "stream",
          "name": "stdout",
          "text": [
            "Papers 0.0019442945\n",
            "Books 0.008772009\n",
            "Conference Proceedings 0.0025574\n",
            "NCI (ESI) 0.045446213\n",
            "Research Power (ESI) 0.34832114\n",
            "# of top 10% documents (ESI) 0.3904545\n",
            "Percent Documents in Top 10% (ESI) 0.01824708\n",
            "Percent Highly Cited Papers (ESI) 0.032960836\n",
            "International Collaboration 0.025382165\n",
            "International Collaboration (relative to country) 0.00765134\n",
            "Reputation (Global) 0.10720265\n",
            "Reputation (Local) 0.011060288\n"
          ]
        }
      ]
    },
    {
      "cell_type": "code",
      "source": [
        "xgb_r.feature_importances_"
      ],
      "metadata": {
        "colab": {
          "base_uri": "https://localhost:8080/"
        },
        "id": "-XMOnpj9R5Tw",
        "outputId": "568b1d25-1f64-4cce-c080-ccf10e4febe6"
      },
      "execution_count": 13,
      "outputs": [
        {
          "output_type": "execute_result",
          "data": {
            "text/plain": [
              "array([0.00194429, 0.00877201, 0.0025574 , 0.04544621, 0.34832114,\n",
              "       0.3904545 , 0.01824708, 0.03296084, 0.02538216, 0.00765134,\n",
              "       0.10720265, 0.01106029], dtype=float32)"
            ]
          },
          "metadata": {},
          "execution_count": 13
        }
      ]
    },
    {
      "cell_type": "code",
      "source": [
        "tec_pos = df[df['Name'] == 'Tecnologico de Monterrey']\n",
        "tec_pos_x = tec_pos.drop(columns=['Name', 'Country', 'Region', 'RANK', 'Year', 'Score'])\n",
        "tec_pos_y = tec_pos.Score"
      ],
      "metadata": {
        "id": "9RFVwCNMTrdE"
      },
      "execution_count": 14,
      "outputs": []
    },
    {
      "cell_type": "code",
      "source": [
        "xgb_r.predict(tec_pos_x)"
      ],
      "metadata": {
        "colab": {
          "base_uri": "https://localhost:8080/"
        },
        "id": "bg9mbA-HSGNP",
        "outputId": "5dc5e414-b0f3-483f-cc7c-0e3137ed8696"
      },
      "execution_count": 15,
      "outputs": [
        {
          "output_type": "execute_result",
          "data": {
            "text/plain": [
              "array([35.444283, 35.93799 , 36.85024 , 39.73677 ], dtype=float32)"
            ]
          },
          "metadata": {},
          "execution_count": 15
        }
      ]
    },
    {
      "cell_type": "code",
      "source": [
        "tec_pos_y"
      ],
      "metadata": {
        "colab": {
          "base_uri": "https://localhost:8080/"
        },
        "id": "i-SWhqC5Sfd4",
        "outputId": "90c4d3bd-5748-41e3-e931-756696c48529"
      },
      "execution_count": 16,
      "outputs": [
        {
          "output_type": "execute_result",
          "data": {
            "text/plain": [
              "898     32.8\n",
              "2104    37.6\n",
              "3592    40.6\n",
              "5035    44.6\n",
              "Name: Score, dtype: float64"
            ]
          },
          "metadata": {},
          "execution_count": 16
        }
      ]
    },
    {
      "cell_type": "code",
      "source": [
        "predicciones_tec = pd.DataFrame(xgb_r.predict(tec_pos_x), columns = ['Predicted'])\n",
        "predicciones_tec['Real'] = tec_pos_y.tolist()\n",
        "predicciones_tec['Error'] = predicciones_tec['Predicted'] - predicciones_tec['Real']\n",
        "predicciones_tec['Year'] = ['2018-2019', '2019-2020', '2020-2021', '2021-2022']\n",
        "predicciones_tec = predicciones_tec.set_index('Year')\n",
        "predicciones_tec"
      ],
      "metadata": {
        "colab": {
          "base_uri": "https://localhost:8080/",
          "height": 206
        },
        "id": "rKSpjTE4U2af",
        "outputId": "0695b69f-c51e-47fa-e74f-8bd4e526f8ff"
      },
      "execution_count": 17,
      "outputs": [
        {
          "output_type": "execute_result",
          "data": {
            "text/plain": [
              "           Predicted  Real     Error\n",
              "Year                                \n",
              "2018-2019  35.444283  32.8  2.644283\n",
              "2019-2020  35.937988  37.6 -1.662012\n",
              "2020-2021  36.850239  40.6 -3.749761\n",
              "2021-2022  39.736771  44.6 -4.863229"
            ],
            "text/html": [
              "\n",
              "  <div id=\"df-25d365af-1a3a-4017-94f2-533f3a314e8e\">\n",
              "    <div class=\"colab-df-container\">\n",
              "      <div>\n",
              "<style scoped>\n",
              "    .dataframe tbody tr th:only-of-type {\n",
              "        vertical-align: middle;\n",
              "    }\n",
              "\n",
              "    .dataframe tbody tr th {\n",
              "        vertical-align: top;\n",
              "    }\n",
              "\n",
              "    .dataframe thead th {\n",
              "        text-align: right;\n",
              "    }\n",
              "</style>\n",
              "<table border=\"1\" class=\"dataframe\">\n",
              "  <thead>\n",
              "    <tr style=\"text-align: right;\">\n",
              "      <th></th>\n",
              "      <th>Predicted</th>\n",
              "      <th>Real</th>\n",
              "      <th>Error</th>\n",
              "    </tr>\n",
              "    <tr>\n",
              "      <th>Year</th>\n",
              "      <th></th>\n",
              "      <th></th>\n",
              "      <th></th>\n",
              "    </tr>\n",
              "  </thead>\n",
              "  <tbody>\n",
              "    <tr>\n",
              "      <th>2018-2019</th>\n",
              "      <td>35.444283</td>\n",
              "      <td>32.8</td>\n",
              "      <td>2.644283</td>\n",
              "    </tr>\n",
              "    <tr>\n",
              "      <th>2019-2020</th>\n",
              "      <td>35.937988</td>\n",
              "      <td>37.6</td>\n",
              "      <td>-1.662012</td>\n",
              "    </tr>\n",
              "    <tr>\n",
              "      <th>2020-2021</th>\n",
              "      <td>36.850239</td>\n",
              "      <td>40.6</td>\n",
              "      <td>-3.749761</td>\n",
              "    </tr>\n",
              "    <tr>\n",
              "      <th>2021-2022</th>\n",
              "      <td>39.736771</td>\n",
              "      <td>44.6</td>\n",
              "      <td>-4.863229</td>\n",
              "    </tr>\n",
              "  </tbody>\n",
              "</table>\n",
              "</div>\n",
              "      <button class=\"colab-df-convert\" onclick=\"convertToInteractive('df-25d365af-1a3a-4017-94f2-533f3a314e8e')\"\n",
              "              title=\"Convert this dataframe to an interactive table.\"\n",
              "              style=\"display:none;\">\n",
              "        \n",
              "  <svg xmlns=\"http://www.w3.org/2000/svg\" height=\"24px\"viewBox=\"0 0 24 24\"\n",
              "       width=\"24px\">\n",
              "    <path d=\"M0 0h24v24H0V0z\" fill=\"none\"/>\n",
              "    <path d=\"M18.56 5.44l.94 2.06.94-2.06 2.06-.94-2.06-.94-.94-2.06-.94 2.06-2.06.94zm-11 1L8.5 8.5l.94-2.06 2.06-.94-2.06-.94L8.5 2.5l-.94 2.06-2.06.94zm10 10l.94 2.06.94-2.06 2.06-.94-2.06-.94-.94-2.06-.94 2.06-2.06.94z\"/><path d=\"M17.41 7.96l-1.37-1.37c-.4-.4-.92-.59-1.43-.59-.52 0-1.04.2-1.43.59L10.3 9.45l-7.72 7.72c-.78.78-.78 2.05 0 2.83L4 21.41c.39.39.9.59 1.41.59.51 0 1.02-.2 1.41-.59l7.78-7.78 2.81-2.81c.8-.78.8-2.07 0-2.86zM5.41 20L4 18.59l7.72-7.72 1.47 1.35L5.41 20z\"/>\n",
              "  </svg>\n",
              "      </button>\n",
              "      \n",
              "  <style>\n",
              "    .colab-df-container {\n",
              "      display:flex;\n",
              "      flex-wrap:wrap;\n",
              "      gap: 12px;\n",
              "    }\n",
              "\n",
              "    .colab-df-convert {\n",
              "      background-color: #E8F0FE;\n",
              "      border: none;\n",
              "      border-radius: 50%;\n",
              "      cursor: pointer;\n",
              "      display: none;\n",
              "      fill: #1967D2;\n",
              "      height: 32px;\n",
              "      padding: 0 0 0 0;\n",
              "      width: 32px;\n",
              "    }\n",
              "\n",
              "    .colab-df-convert:hover {\n",
              "      background-color: #E2EBFA;\n",
              "      box-shadow: 0px 1px 2px rgba(60, 64, 67, 0.3), 0px 1px 3px 1px rgba(60, 64, 67, 0.15);\n",
              "      fill: #174EA6;\n",
              "    }\n",
              "\n",
              "    [theme=dark] .colab-df-convert {\n",
              "      background-color: #3B4455;\n",
              "      fill: #D2E3FC;\n",
              "    }\n",
              "\n",
              "    [theme=dark] .colab-df-convert:hover {\n",
              "      background-color: #434B5C;\n",
              "      box-shadow: 0px 1px 3px 1px rgba(0, 0, 0, 0.15);\n",
              "      filter: drop-shadow(0px 1px 2px rgba(0, 0, 0, 0.3));\n",
              "      fill: #FFFFFF;\n",
              "    }\n",
              "  </style>\n",
              "\n",
              "      <script>\n",
              "        const buttonEl =\n",
              "          document.querySelector('#df-25d365af-1a3a-4017-94f2-533f3a314e8e button.colab-df-convert');\n",
              "        buttonEl.style.display =\n",
              "          google.colab.kernel.accessAllowed ? 'block' : 'none';\n",
              "\n",
              "        async function convertToInteractive(key) {\n",
              "          const element = document.querySelector('#df-25d365af-1a3a-4017-94f2-533f3a314e8e');\n",
              "          const dataTable =\n",
              "            await google.colab.kernel.invokeFunction('convertToInteractive',\n",
              "                                                     [key], {});\n",
              "          if (!dataTable) return;\n",
              "\n",
              "          const docLinkHtml = 'Like what you see? Visit the ' +\n",
              "            '<a target=\"_blank\" href=https://colab.research.google.com/notebooks/data_table.ipynb>data table notebook</a>'\n",
              "            + ' to learn more about interactive tables.';\n",
              "          element.innerHTML = '';\n",
              "          dataTable['output_type'] = 'display_data';\n",
              "          await google.colab.output.renderOutput(dataTable, element);\n",
              "          const docLink = document.createElement('div');\n",
              "          docLink.innerHTML = docLinkHtml;\n",
              "          element.appendChild(docLink);\n",
              "        }\n",
              "      </script>\n",
              "    </div>\n",
              "  </div>\n",
              "  "
            ]
          },
          "metadata": {},
          "execution_count": 17
        }
      ]
    },
    {
      "cell_type": "code",
      "source": [
        "prediccion_futuro = pd.DataFrame(columns = X_test.columns)\n",
        "prediccion_futuro"
      ],
      "metadata": {
        "colab": {
          "base_uri": "https://localhost:8080/",
          "height": 128
        },
        "id": "csZZarrFrksT",
        "outputId": "bb8429f6-58e8-49ab-d48d-de7f438e8b4c"
      },
      "execution_count": 18,
      "outputs": [
        {
          "output_type": "execute_result",
          "data": {
            "text/plain": [
              "Empty DataFrame\n",
              "Columns: [Papers, Books, Conference Proceedings, NCI (ESI), Research Power (ESI), # of top 10% documents (ESI), Percent Documents in Top 10% (ESI), Percent Highly Cited Papers (ESI), International Collaboration, International Collaboration (relative to country), Reputation (Global), Reputation (Local)]\n",
              "Index: []"
            ],
            "text/html": [
              "\n",
              "  <div id=\"df-17e71028-e9cc-48f9-a7d0-3caf58cea5ee\">\n",
              "    <div class=\"colab-df-container\">\n",
              "      <div>\n",
              "<style scoped>\n",
              "    .dataframe tbody tr th:only-of-type {\n",
              "        vertical-align: middle;\n",
              "    }\n",
              "\n",
              "    .dataframe tbody tr th {\n",
              "        vertical-align: top;\n",
              "    }\n",
              "\n",
              "    .dataframe thead th {\n",
              "        text-align: right;\n",
              "    }\n",
              "</style>\n",
              "<table border=\"1\" class=\"dataframe\">\n",
              "  <thead>\n",
              "    <tr style=\"text-align: right;\">\n",
              "      <th></th>\n",
              "      <th>Papers</th>\n",
              "      <th>Books</th>\n",
              "      <th>Conference Proceedings</th>\n",
              "      <th>NCI (ESI)</th>\n",
              "      <th>Research Power (ESI)</th>\n",
              "      <th># of top 10% documents (ESI)</th>\n",
              "      <th>Percent Documents in Top 10% (ESI)</th>\n",
              "      <th>Percent Highly Cited Papers (ESI)</th>\n",
              "      <th>International Collaboration</th>\n",
              "      <th>International Collaboration (relative to country)</th>\n",
              "      <th>Reputation (Global)</th>\n",
              "      <th>Reputation (Local)</th>\n",
              "    </tr>\n",
              "  </thead>\n",
              "  <tbody>\n",
              "  </tbody>\n",
              "</table>\n",
              "</div>\n",
              "      <button class=\"colab-df-convert\" onclick=\"convertToInteractive('df-17e71028-e9cc-48f9-a7d0-3caf58cea5ee')\"\n",
              "              title=\"Convert this dataframe to an interactive table.\"\n",
              "              style=\"display:none;\">\n",
              "        \n",
              "  <svg xmlns=\"http://www.w3.org/2000/svg\" height=\"24px\"viewBox=\"0 0 24 24\"\n",
              "       width=\"24px\">\n",
              "    <path d=\"M0 0h24v24H0V0z\" fill=\"none\"/>\n",
              "    <path d=\"M18.56 5.44l.94 2.06.94-2.06 2.06-.94-2.06-.94-.94-2.06-.94 2.06-2.06.94zm-11 1L8.5 8.5l.94-2.06 2.06-.94-2.06-.94L8.5 2.5l-.94 2.06-2.06.94zm10 10l.94 2.06.94-2.06 2.06-.94-2.06-.94-.94-2.06-.94 2.06-2.06.94z\"/><path d=\"M17.41 7.96l-1.37-1.37c-.4-.4-.92-.59-1.43-.59-.52 0-1.04.2-1.43.59L10.3 9.45l-7.72 7.72c-.78.78-.78 2.05 0 2.83L4 21.41c.39.39.9.59 1.41.59.51 0 1.02-.2 1.41-.59l7.78-7.78 2.81-2.81c.8-.78.8-2.07 0-2.86zM5.41 20L4 18.59l7.72-7.72 1.47 1.35L5.41 20z\"/>\n",
              "  </svg>\n",
              "      </button>\n",
              "      \n",
              "  <style>\n",
              "    .colab-df-container {\n",
              "      display:flex;\n",
              "      flex-wrap:wrap;\n",
              "      gap: 12px;\n",
              "    }\n",
              "\n",
              "    .colab-df-convert {\n",
              "      background-color: #E8F0FE;\n",
              "      border: none;\n",
              "      border-radius: 50%;\n",
              "      cursor: pointer;\n",
              "      display: none;\n",
              "      fill: #1967D2;\n",
              "      height: 32px;\n",
              "      padding: 0 0 0 0;\n",
              "      width: 32px;\n",
              "    }\n",
              "\n",
              "    .colab-df-convert:hover {\n",
              "      background-color: #E2EBFA;\n",
              "      box-shadow: 0px 1px 2px rgba(60, 64, 67, 0.3), 0px 1px 3px 1px rgba(60, 64, 67, 0.15);\n",
              "      fill: #174EA6;\n",
              "    }\n",
              "\n",
              "    [theme=dark] .colab-df-convert {\n",
              "      background-color: #3B4455;\n",
              "      fill: #D2E3FC;\n",
              "    }\n",
              "\n",
              "    [theme=dark] .colab-df-convert:hover {\n",
              "      background-color: #434B5C;\n",
              "      box-shadow: 0px 1px 3px 1px rgba(0, 0, 0, 0.15);\n",
              "      filter: drop-shadow(0px 1px 2px rgba(0, 0, 0, 0.3));\n",
              "      fill: #FFFFFF;\n",
              "    }\n",
              "  </style>\n",
              "\n",
              "      <script>\n",
              "        const buttonEl =\n",
              "          document.querySelector('#df-17e71028-e9cc-48f9-a7d0-3caf58cea5ee button.colab-df-convert');\n",
              "        buttonEl.style.display =\n",
              "          google.colab.kernel.accessAllowed ? 'block' : 'none';\n",
              "\n",
              "        async function convertToInteractive(key) {\n",
              "          const element = document.querySelector('#df-17e71028-e9cc-48f9-a7d0-3caf58cea5ee');\n",
              "          const dataTable =\n",
              "            await google.colab.kernel.invokeFunction('convertToInteractive',\n",
              "                                                     [key], {});\n",
              "          if (!dataTable) return;\n",
              "\n",
              "          const docLinkHtml = 'Like what you see? Visit the ' +\n",
              "            '<a target=\"_blank\" href=https://colab.research.google.com/notebooks/data_table.ipynb>data table notebook</a>'\n",
              "            + ' to learn more about interactive tables.';\n",
              "          element.innerHTML = '';\n",
              "          dataTable['output_type'] = 'display_data';\n",
              "          await google.colab.output.renderOutput(dataTable, element);\n",
              "          const docLink = document.createElement('div');\n",
              "          docLink.innerHTML = docLinkHtml;\n",
              "          element.appendChild(docLink);\n",
              "        }\n",
              "      </script>\n",
              "    </div>\n",
              "  </div>\n",
              "  "
            ]
          },
          "metadata": {},
          "execution_count": 18
        }
      ]
    },
    {
      "cell_type": "code",
      "source": [
        "# from sklearn.inspection import permutation_importance\n",
        "# perm_importance = permutation_importance(svr, X_test, y_test)\n",
        "# feature_names = X_test.columns.tolist()"
      ],
      "metadata": {
        "id": "MTs_p-ybf2uY"
      },
      "execution_count": 19,
      "outputs": []
    },
    {
      "cell_type": "code",
      "source": [
        "# feature_names = X_test.columns.tolist()\n",
        "# features = np.array(feature_names)\n",
        "# sorted_idx = perm_importance.importances_mean.argsort()\n",
        "# plt.barh(features[sorted_idx], perm_importance.importances_mean[sorted_idx])\n",
        "# plt.title(\"Importancia de las Features SVR\")\n",
        "# plt.show()"
      ],
      "metadata": {
        "id": "QAhKXGGIiQR_"
      },
      "execution_count": 20,
      "outputs": []
    },
    {
      "cell_type": "code",
      "source": [
        "a = [1028,763,592,1297,1105,1027,900,698,454,174,585,264]\n",
        "a = np.array(a)\n",
        "a = pd.DataFrame(a).transpose()\n",
        "a.columns = X_test.columns\n",
        "xgb_r.predict(a)\n"
      ],
      "metadata": {
        "colab": {
          "base_uri": "https://localhost:8080/"
        },
        "id": "CQN_4iGtos4d",
        "outputId": "7e607e11-f13d-48fc-ccc8-93f8e2bb594e"
      },
      "execution_count": 21,
      "outputs": [
        {
          "output_type": "execute_result",
          "data": {
            "text/plain": [
              "array([40.508556], dtype=float32)"
            ]
          },
          "metadata": {},
          "execution_count": 21
        }
      ]
    }
  ]
}